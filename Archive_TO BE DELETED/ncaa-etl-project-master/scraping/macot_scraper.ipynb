{
 "cells": [
  {
   "cell_type": "code",
   "execution_count": 9,
   "metadata": {},
   "outputs": [],
   "source": [
    "from splinter import Browser\n",
    "from splinter.exceptions import ElementDoesNotExist\n",
    "from bs4 import BeautifulSoup\n",
    "import pandas as pd\n",
    "import time\n",
    "import datadotworld as dw"
   ]
  },
  {
   "cell_type": "markdown",
   "metadata": {},
   "source": [
    "# Windows Users"
   ]
  },
  {
   "cell_type": "code",
   "execution_count": 10,
   "metadata": {},
   "outputs": [],
   "source": [
    "executable_path = {'executable_path': 'chromedriver.exe'}\n",
    "browser = Browser('chrome', **executable_path, headless=False)"
   ]
  },
  {
   "cell_type": "code",
   "execution_count": 11,
   "metadata": {},
   "outputs": [],
   "source": [
    "url = ('https://www.ncaa.com/brackets/lacrosse-women/d1')\n",
    "browser.visit(url)\n",
    "time.sleep(1)\n",
    "html = browser.html\n",
    "soup = BeautifulSoup(html, 'html.parser')\n"
   ]
  },
  {
   "cell_type": "code",
   "execution_count": 13,
   "metadata": {},
   "outputs": [],
   "source": [
    "regions=soup.find('div',class_='bracket_68')\n"
   ]
  },
  {
   "cell_type": "code",
   "execution_count": 14,
   "metadata": {},
   "outputs": [
    {
     "ename": "AttributeError",
     "evalue": "'NoneType' object has no attribute 'find_all'",
     "output_type": "error",
     "traceback": [
      "\u001b[1;31m---------------------------------------------------------------------------\u001b[0m",
      "\u001b[1;31mAttributeError\u001b[0m                            Traceback (most recent call last)",
      "\u001b[1;32m<ipython-input-14-676d687b49e4>\u001b[0m in \u001b[0;36m<module>\u001b[1;34m\u001b[0m\n\u001b[0;32m      1\u001b[0m \u001b[0mregion_list\u001b[0m \u001b[1;33m=\u001b[0m\u001b[1;33m[\u001b[0m\u001b[1;33m]\u001b[0m\u001b[1;33m\u001b[0m\u001b[1;33m\u001b[0m\u001b[0m\n\u001b[0;32m      2\u001b[0m \u001b[1;33m\u001b[0m\u001b[0m\n\u001b[1;32m----> 3\u001b[1;33m \u001b[0mregion1\u001b[0m \u001b[1;33m=\u001b[0m \u001b[0mregions\u001b[0m\u001b[1;33m.\u001b[0m\u001b[0mfind_all\u001b[0m\u001b[1;33m(\u001b[0m\u001b[1;34m'h3'\u001b[0m\u001b[1;33m)\u001b[0m\u001b[1;33m[\u001b[0m\u001b[1;36m0\u001b[0m\u001b[1;33m]\u001b[0m\u001b[1;33m.\u001b[0m\u001b[0mtext\u001b[0m\u001b[1;33m.\u001b[0m\u001b[0mstrip\u001b[0m\u001b[1;33m(\u001b[0m\u001b[1;33m)\u001b[0m\u001b[1;33m\u001b[0m\u001b[1;33m\u001b[0m\u001b[0m\n\u001b[0m\u001b[0;32m      4\u001b[0m \u001b[0mregion_list\u001b[0m\u001b[1;33m.\u001b[0m\u001b[0mappend\u001b[0m\u001b[1;33m(\u001b[0m\u001b[0mregion1\u001b[0m\u001b[1;33m)\u001b[0m\u001b[1;33m\u001b[0m\u001b[1;33m\u001b[0m\u001b[0m\n\u001b[0;32m      5\u001b[0m \u001b[0mregion2\u001b[0m \u001b[1;33m=\u001b[0m \u001b[0mregions\u001b[0m\u001b[1;33m.\u001b[0m\u001b[0mfind_all\u001b[0m\u001b[1;33m(\u001b[0m\u001b[1;34m'h3'\u001b[0m\u001b[1;33m)\u001b[0m\u001b[1;33m[\u001b[0m\u001b[1;36m1\u001b[0m\u001b[1;33m]\u001b[0m\u001b[1;33m.\u001b[0m\u001b[0mtext\u001b[0m\u001b[1;33m.\u001b[0m\u001b[0mstrip\u001b[0m\u001b[1;33m(\u001b[0m\u001b[1;33m)\u001b[0m\u001b[1;33m\u001b[0m\u001b[1;33m\u001b[0m\u001b[0m\n",
      "\u001b[1;31mAttributeError\u001b[0m: 'NoneType' object has no attribute 'find_all'"
     ]
    }
   ],
   "source": [
    "region_list =[]\n",
    "\n",
    "region1 = regions.find_all('h3')[0].text.strip()\n",
    "region_list.append(region1)\n",
    "region2 = regions.find_all('h3')[1].text.strip()\n",
    "region_list.append(region2)\n",
    "region3 = regions.find_all('h3')[6].text.strip()\n",
    "region_list.append(region3)\n",
    "region4 = regions.find_all('h3')[7].text.strip()\n",
    "region_list.append(region4)\n",
    "\n",
    "print(region_list)"
   ]
  },
  {
   "cell_type": "code",
   "execution_count": null,
   "metadata": {},
   "outputs": [],
   "source": []
  },
  {
   "cell_type": "code",
   "execution_count": 15,
   "metadata": {},
   "outputs": [
    {
     "ename": "AttributeError",
     "evalue": "'NoneType' object has no attribute 'find_all'",
     "output_type": "error",
     "traceback": [
      "\u001b[1;31m---------------------------------------------------------------------------\u001b[0m",
      "\u001b[1;31mAttributeError\u001b[0m                            Traceback (most recent call last)",
      "\u001b[1;32m<ipython-input-15-84e66cbedc71>\u001b[0m in \u001b[0;36m<module>\u001b[1;34m\u001b[0m\n\u001b[1;32m----> 1\u001b[1;33m \u001b[0mteams\u001b[0m \u001b[1;33m=\u001b[0m \u001b[0mregions\u001b[0m\u001b[1;33m.\u001b[0m\u001b[0mfind_all\u001b[0m\u001b[1;33m(\u001b[0m\u001b[1;34m'span'\u001b[0m\u001b[1;33m,\u001b[0m\u001b[0mclass_\u001b[0m\u001b[1;33m=\u001b[0m\u001b[1;34m'name'\u001b[0m\u001b[1;33m)\u001b[0m\u001b[1;33m\u001b[0m\u001b[1;33m\u001b[0m\u001b[0m\n\u001b[0m\u001b[0;32m      2\u001b[0m \u001b[0mmascots\u001b[0m\u001b[1;33m=\u001b[0m \u001b[0mregions\u001b[0m\u001b[1;33m.\u001b[0m\u001b[0mfind_all\u001b[0m\u001b[1;33m(\u001b[0m\u001b[1;34m'img'\u001b[0m\u001b[1;33m,\u001b[0m\u001b[0mclass_\u001b[0m\u001b[1;33m=\u001b[0m\u001b[1;34m'logo'\u001b[0m\u001b[1;33m)\u001b[0m\u001b[1;33m\u001b[0m\u001b[1;33m\u001b[0m\u001b[0m\n\u001b[0;32m      3\u001b[0m \u001b[0mseeds\u001b[0m\u001b[1;33m=\u001b[0m\u001b[0mregions\u001b[0m\u001b[1;33m.\u001b[0m\u001b[0mfind_all\u001b[0m\u001b[1;33m(\u001b[0m\u001b[1;34m'span'\u001b[0m\u001b[1;33m,\u001b[0m\u001b[0mclass_\u001b[0m\u001b[1;33m=\u001b[0m\u001b[1;34m'seed'\u001b[0m\u001b[1;33m)\u001b[0m\u001b[1;33m\u001b[0m\u001b[1;33m\u001b[0m\u001b[0m\n\u001b[0;32m      4\u001b[0m \u001b[0mteam_names\u001b[0m \u001b[1;33m=\u001b[0m\u001b[1;33m[\u001b[0m\u001b[1;33m]\u001b[0m\u001b[1;33m\u001b[0m\u001b[1;33m\u001b[0m\u001b[0m\n\u001b[0;32m      5\u001b[0m \u001b[0mteam_mascots\u001b[0m \u001b[1;33m=\u001b[0m \u001b[1;33m[\u001b[0m\u001b[1;33m]\u001b[0m\u001b[1;33m\u001b[0m\u001b[1;33m\u001b[0m\u001b[0m\n",
      "\u001b[1;31mAttributeError\u001b[0m: 'NoneType' object has no attribute 'find_all'"
     ]
    }
   ],
   "source": [
    "teams = regions.find_all('span',class_='name')\n",
    "mascots= regions.find_all('img',class_='logo')\n",
    "seeds=regions.find_all('span',class_='seed')\n",
    "team_names =[]\n",
    "team_mascots = []\n",
    "team_seeds=[]\n",
    "for team in teams:\n",
    "    team_names.append(team.text)\n",
    "\n",
    "for m in mascots:\n",
    "    mascot_url = 'https:' +m[\"src\"]\n",
    "    team_mascots.append(mascot_url)   \n",
    "for seed in seeds:\n",
    "    team_seeds.append(seed.text)    \n",
    "print(team_names,team_seeds,team_mascots)"
   ]
  },
  {
   "cell_type": "code",
   "execution_count": null,
   "metadata": {},
   "outputs": [],
   "source": []
  },
  {
   "cell_type": "code",
   "execution_count": null,
   "metadata": {},
   "outputs": [],
   "source": []
  },
  {
   "cell_type": "code",
   "execution_count": 16,
   "metadata": {},
   "outputs": [
    {
     "ename": "NameError",
     "evalue": "name 'team_seeds' is not defined",
     "output_type": "error",
     "traceback": [
      "\u001b[1;31m---------------------------------------------------------------------------\u001b[0m",
      "\u001b[1;31mNameError\u001b[0m                                 Traceback (most recent call last)",
      "\u001b[1;32m<ipython-input-16-71be6e51316c>\u001b[0m in \u001b[0;36m<module>\u001b[1;34m\u001b[0m\n\u001b[1;32m----> 1\u001b[1;33m teams_mascot_df = pd.DataFrame({'Team Seed':team_seeds,\n\u001b[0m\u001b[0;32m      2\u001b[0m                                \u001b[1;34m'Team Name'\u001b[0m\u001b[1;33m:\u001b[0m\u001b[0mteam_names\u001b[0m\u001b[1;33m,\u001b[0m\u001b[1;33m\u001b[0m\u001b[1;33m\u001b[0m\u001b[0m\n\u001b[0;32m      3\u001b[0m                                'Team Mascot':team_mascots })\n\u001b[0;32m      4\u001b[0m \u001b[1;33m\u001b[0m\u001b[0m\n\u001b[0;32m      5\u001b[0m \u001b[1;33m\u001b[0m\u001b[0m\n",
      "\u001b[1;31mNameError\u001b[0m: name 'team_seeds' is not defined"
     ]
    }
   ],
   "source": [
    "teams_mascot_df = pd.DataFrame({'Team Seed':team_seeds,\n",
    "                               'Team Name':team_names,\n",
    "                               'Team Mascot':team_mascots })\n",
    "\n",
    "\n"
   ]
  },
  {
   "cell_type": "code",
   "execution_count": 17,
   "metadata": {},
   "outputs": [
    {
     "ename": "NameError",
     "evalue": "name 'teams_mascot_df' is not defined",
     "output_type": "error",
     "traceback": [
      "\u001b[1;31m---------------------------------------------------------------------------\u001b[0m",
      "\u001b[1;31mNameError\u001b[0m                                 Traceback (most recent call last)",
      "\u001b[1;32m<ipython-input-17-7713d91edf42>\u001b[0m in \u001b[0;36m<module>\u001b[1;34m\u001b[0m\n\u001b[1;32m----> 1\u001b[1;33m \u001b[0mnew_teams_mascot_df\u001b[0m \u001b[1;33m=\u001b[0m \u001b[0mteams_mascot_df\u001b[0m\u001b[1;33m.\u001b[0m\u001b[0mdrop_duplicates\u001b[0m\u001b[1;33m(\u001b[0m\u001b[1;33m)\u001b[0m\u001b[1;33m.\u001b[0m\u001b[0mreset_index\u001b[0m\u001b[1;33m(\u001b[0m\u001b[0mdrop\u001b[0m\u001b[1;33m=\u001b[0m\u001b[1;32mTrue\u001b[0m\u001b[1;33m)\u001b[0m\u001b[1;33m\u001b[0m\u001b[1;33m\u001b[0m\u001b[0m\n\u001b[0m\u001b[0;32m      2\u001b[0m \u001b[0mprint\u001b[0m\u001b[1;33m(\u001b[0m\u001b[0mnew_teams_mascot_df\u001b[0m\u001b[1;33m)\u001b[0m\u001b[1;33m\u001b[0m\u001b[1;33m\u001b[0m\u001b[0m\n",
      "\u001b[1;31mNameError\u001b[0m: name 'teams_mascot_df' is not defined"
     ]
    }
   ],
   "source": [
    "new_teams_mascot_df = teams_mascot_df.drop_duplicates().reset_index(drop=True)\n",
    "print(new_teams_mascot_df)"
   ]
  },
  {
   "cell_type": "code",
   "execution_count": 23,
   "metadata": {},
   "outputs": [
    {
     "ename": "IndexError",
     "evalue": "list index out of range",
     "output_type": "error",
     "traceback": [
      "\u001b[1;31m---------------------------------------------------------------------------\u001b[0m",
      "\u001b[1;31mIndexError\u001b[0m                                Traceback (most recent call last)",
      "\u001b[1;32m<ipython-input-23-aad48beb8da2>\u001b[0m in \u001b[0;36m<module>\u001b[1;34m\u001b[0m\n\u001b[0;32m      4\u001b[0m \u001b[1;32mfor\u001b[0m \u001b[0mi\u001b[0m \u001b[1;32min\u001b[0m \u001b[0mrange\u001b[0m\u001b[1;33m(\u001b[0m\u001b[1;36m64\u001b[0m\u001b[1;33m)\u001b[0m\u001b[1;33m:\u001b[0m\u001b[1;33m\u001b[0m\u001b[1;33m\u001b[0m\u001b[0m\n\u001b[0;32m      5\u001b[0m     \u001b[1;32mif\u001b[0m \u001b[0mi\u001b[0m \u001b[1;33m<\u001b[0m \u001b[1;36m16\u001b[0m\u001b[1;33m:\u001b[0m\u001b[1;33m\u001b[0m\u001b[1;33m\u001b[0m\u001b[0m\n\u001b[1;32m----> 6\u001b[1;33m         \u001b[0mreg_col\u001b[0m\u001b[1;33m.\u001b[0m\u001b[0mappend\u001b[0m\u001b[1;33m(\u001b[0m\u001b[0mregion_list\u001b[0m\u001b[1;33m[\u001b[0m\u001b[1;36m0\u001b[0m\u001b[1;33m]\u001b[0m\u001b[1;33m)\u001b[0m\u001b[1;33m\u001b[0m\u001b[1;33m\u001b[0m\u001b[0m\n\u001b[0m\u001b[0;32m      7\u001b[0m     \u001b[1;32melif\u001b[0m\u001b[1;33m(\u001b[0m\u001b[0mi\u001b[0m\u001b[1;33m<\u001b[0m\u001b[1;36m32\u001b[0m\u001b[1;33m)\u001b[0m\u001b[1;33m:\u001b[0m\u001b[1;33m\u001b[0m\u001b[1;33m\u001b[0m\u001b[0m\n\u001b[0;32m      8\u001b[0m         \u001b[0mreg_col\u001b[0m\u001b[1;33m.\u001b[0m\u001b[0mappend\u001b[0m\u001b[1;33m(\u001b[0m\u001b[0mregion_list\u001b[0m\u001b[1;33m[\u001b[0m\u001b[1;36m1\u001b[0m\u001b[1;33m]\u001b[0m\u001b[1;33m)\u001b[0m\u001b[1;33m\u001b[0m\u001b[1;33m\u001b[0m\u001b[0m\n",
      "\u001b[1;31mIndexError\u001b[0m: list index out of range"
     ]
    }
   ],
   "source": [
    "reg_col = []\n",
    "\n",
    "count = 0\n",
    "for i in range(64):\n",
    "    if i < 16:\n",
    "        reg_col.append(region_list[0])\n",
    "    elif(i<32):\n",
    "        reg_col.append(region_list[1])\n",
    "    elif (i == 32): \n",
    "        reg_col.append(region_list[2])\n",
    "    elif (i == 33):\n",
    "        reg_col.append(region_list[3])\n",
    "    elif( i<48):   \n",
    "        reg_col.append(region_list[2])\n",
    "    elif (i== 48):\n",
    "        reg_col.append(region_list[2])\n",
    "    elif ( i<64):\n",
    "        reg_col.append(region_list[3])\n",
    "    \n",
    "     \n",
    "reg_col.append('EAST')\n",
    "reg_col.append('EAST')\n",
    "reg_col.append('WEST')\n",
    "reg_col.append('MIDWEST')\n",
    "\n",
    "new_teams_mascot_df['Region Name']= reg_col\n",
    "\n",
    "new_teams_mascot_df.set_index('Region Name', inplace=True)\n",
    "new_teams_mascot_df.head()"
   ]
  },
  {
   "cell_type": "code",
   "execution_count": 10,
   "metadata": {},
   "outputs": [
    {
     "data": {
      "text/html": [
       "<div>\n",
       "<style scoped>\n",
       "    .dataframe tbody tr th:only-of-type {\n",
       "        vertical-align: middle;\n",
       "    }\n",
       "\n",
       "    .dataframe tbody tr th {\n",
       "        vertical-align: top;\n",
       "    }\n",
       "\n",
       "    .dataframe thead th {\n",
       "        text-align: right;\n",
       "    }\n",
       "</style>\n",
       "<table border=\"1\" class=\"dataframe\">\n",
       "  <thead>\n",
       "    <tr style=\"text-align: right;\">\n",
       "      <th></th>\n",
       "      <th>Team Seed</th>\n",
       "      <th>Team Name</th>\n",
       "      <th>Team Mascot</th>\n",
       "    </tr>\n",
       "    <tr>\n",
       "      <th>Region Name</th>\n",
       "      <th></th>\n",
       "      <th></th>\n",
       "      <th></th>\n",
       "    </tr>\n",
       "  </thead>\n",
       "  <tbody>\n",
       "    <tr>\n",
       "      <th>MIDWEST</th>\n",
       "      <td>1</td>\n",
       "      <td>Kansas</td>\n",
       "      <td>https://i.turner.ncaa.com/sites/default/files/...</td>\n",
       "    </tr>\n",
       "    <tr>\n",
       "      <th>MIDWEST</th>\n",
       "      <td>16</td>\n",
       "      <td>Penn</td>\n",
       "      <td>https://i.turner.ncaa.com/sites/default/files/...</td>\n",
       "    </tr>\n",
       "    <tr>\n",
       "      <th>MIDWEST</th>\n",
       "      <td>8</td>\n",
       "      <td>Seton Hall</td>\n",
       "      <td>https://i.turner.ncaa.com/sites/default/files/...</td>\n",
       "    </tr>\n",
       "    <tr>\n",
       "      <th>MIDWEST</th>\n",
       "      <td>9</td>\n",
       "      <td>North Carolina St.</td>\n",
       "      <td>https://i.turner.ncaa.com/sites/default/files/...</td>\n",
       "    </tr>\n",
       "    <tr>\n",
       "      <th>MIDWEST</th>\n",
       "      <td>5</td>\n",
       "      <td>Clemson</td>\n",
       "      <td>https://i.turner.ncaa.com/sites/default/files/...</td>\n",
       "    </tr>\n",
       "    <tr>\n",
       "      <th>MIDWEST</th>\n",
       "      <td>12</td>\n",
       "      <td>New Mexico St.</td>\n",
       "      <td>https://i.turner.ncaa.com/sites/default/files/...</td>\n",
       "    </tr>\n",
       "    <tr>\n",
       "      <th>MIDWEST</th>\n",
       "      <td>4</td>\n",
       "      <td>Auburn</td>\n",
       "      <td>https://i.turner.ncaa.com/sites/default/files/...</td>\n",
       "    </tr>\n",
       "    <tr>\n",
       "      <th>MIDWEST</th>\n",
       "      <td>13</td>\n",
       "      <td>Col. of Charleston</td>\n",
       "      <td>https://i.turner.ncaa.com/sites/default/files/...</td>\n",
       "    </tr>\n",
       "    <tr>\n",
       "      <th>MIDWEST</th>\n",
       "      <td>6</td>\n",
       "      <td>TCU</td>\n",
       "      <td>https://i.turner.ncaa.com/sites/default/files/...</td>\n",
       "    </tr>\n",
       "    <tr>\n",
       "      <th>MIDWEST</th>\n",
       "      <td>11</td>\n",
       "      <td>Syracuse</td>\n",
       "      <td>https://i.turner.ncaa.com/sites/default/files/...</td>\n",
       "    </tr>\n",
       "    <tr>\n",
       "      <th>MIDWEST</th>\n",
       "      <td>3</td>\n",
       "      <td>Michigan St.</td>\n",
       "      <td>https://i.turner.ncaa.com/sites/default/files/...</td>\n",
       "    </tr>\n",
       "    <tr>\n",
       "      <th>MIDWEST</th>\n",
       "      <td>14</td>\n",
       "      <td>Bucknell</td>\n",
       "      <td>https://i.turner.ncaa.com/sites/default/files/...</td>\n",
       "    </tr>\n",
       "    <tr>\n",
       "      <th>MIDWEST</th>\n",
       "      <td>7</td>\n",
       "      <td>Rhode Island</td>\n",
       "      <td>https://i.turner.ncaa.com/sites/default/files/...</td>\n",
       "    </tr>\n",
       "    <tr>\n",
       "      <th>MIDWEST</th>\n",
       "      <td>10</td>\n",
       "      <td>Oklahoma</td>\n",
       "      <td>https://i.turner.ncaa.com/sites/default/files/...</td>\n",
       "    </tr>\n",
       "    <tr>\n",
       "      <th>MIDWEST</th>\n",
       "      <td>2</td>\n",
       "      <td>Duke</td>\n",
       "      <td>https://i.turner.ncaa.com/sites/default/files/...</td>\n",
       "    </tr>\n",
       "    <tr>\n",
       "      <th>MIDWEST</th>\n",
       "      <td>15</td>\n",
       "      <td>Iona</td>\n",
       "      <td>https://i.turner.ncaa.com/sites/default/files/...</td>\n",
       "    </tr>\n",
       "    <tr>\n",
       "      <th>MIDWEST</th>\n",
       "      <td>11</td>\n",
       "      <td>Arizona St.</td>\n",
       "      <td>https://i.turner.ncaa.com/sites/default/files/...</td>\n",
       "    </tr>\n",
       "  </tbody>\n",
       "</table>\n",
       "</div>"
      ],
      "text/plain": [
       "            Team Seed           Team Name  \\\n",
       "Region Name                                 \n",
       "MIDWEST             1              Kansas   \n",
       "MIDWEST            16                Penn   \n",
       "MIDWEST             8          Seton Hall   \n",
       "MIDWEST             9  North Carolina St.   \n",
       "MIDWEST             5             Clemson   \n",
       "MIDWEST            12      New Mexico St.   \n",
       "MIDWEST             4              Auburn   \n",
       "MIDWEST            13  Col. of Charleston   \n",
       "MIDWEST             6                 TCU   \n",
       "MIDWEST            11            Syracuse   \n",
       "MIDWEST             3        Michigan St.   \n",
       "MIDWEST            14            Bucknell   \n",
       "MIDWEST             7        Rhode Island   \n",
       "MIDWEST            10            Oklahoma   \n",
       "MIDWEST             2                Duke   \n",
       "MIDWEST            15                Iona   \n",
       "MIDWEST            11         Arizona St.   \n",
       "\n",
       "                                                   Team Mascot  \n",
       "Region Name                                                     \n",
       "MIDWEST      https://i.turner.ncaa.com/sites/default/files/...  \n",
       "MIDWEST      https://i.turner.ncaa.com/sites/default/files/...  \n",
       "MIDWEST      https://i.turner.ncaa.com/sites/default/files/...  \n",
       "MIDWEST      https://i.turner.ncaa.com/sites/default/files/...  \n",
       "MIDWEST      https://i.turner.ncaa.com/sites/default/files/...  \n",
       "MIDWEST      https://i.turner.ncaa.com/sites/default/files/...  \n",
       "MIDWEST      https://i.turner.ncaa.com/sites/default/files/...  \n",
       "MIDWEST      https://i.turner.ncaa.com/sites/default/files/...  \n",
       "MIDWEST      https://i.turner.ncaa.com/sites/default/files/...  \n",
       "MIDWEST      https://i.turner.ncaa.com/sites/default/files/...  \n",
       "MIDWEST      https://i.turner.ncaa.com/sites/default/files/...  \n",
       "MIDWEST      https://i.turner.ncaa.com/sites/default/files/...  \n",
       "MIDWEST      https://i.turner.ncaa.com/sites/default/files/...  \n",
       "MIDWEST      https://i.turner.ncaa.com/sites/default/files/...  \n",
       "MIDWEST      https://i.turner.ncaa.com/sites/default/files/...  \n",
       "MIDWEST      https://i.turner.ncaa.com/sites/default/files/...  \n",
       "MIDWEST      https://i.turner.ncaa.com/sites/default/files/...  "
      ]
     },
     "execution_count": 10,
     "metadata": {},
     "output_type": "execute_result"
    }
   ],
   "source": [
    "south_df = new_teams_mascot_df.loc['MIDWEST']\n",
    "south_df"
   ]
  },
  {
   "cell_type": "code",
   "execution_count": 19,
   "metadata": {},
   "outputs": [
    {
     "ename": "NameError",
     "evalue": "name 'new_teams_mascot_df' is not defined",
     "output_type": "error",
     "traceback": [
      "\u001b[1;31m---------------------------------------------------------------------------\u001b[0m",
      "\u001b[1;31mNameError\u001b[0m                                 Traceback (most recent call last)",
      "\u001b[1;32m<ipython-input-19-6970dc235373>\u001b[0m in \u001b[0;36m<module>\u001b[1;34m\u001b[0m\n\u001b[1;32m----> 1\u001b[1;33m \u001b[0mnew_teams_mascot_df\u001b[0m\u001b[1;33m.\u001b[0m\u001b[0mto_csv\u001b[0m\u001b[1;33m(\u001b[0m\u001b[1;34m'../website/static/Resources/team_mascot_seed_2018.csv'\u001b[0m\u001b[1;33m,\u001b[0m\u001b[0mencoding\u001b[0m\u001b[1;33m=\u001b[0m\u001b[1;34m'utf-8'\u001b[0m\u001b[1;33m)\u001b[0m\u001b[1;33m\u001b[0m\u001b[1;33m\u001b[0m\u001b[0m\n\u001b[0m",
      "\u001b[1;31mNameError\u001b[0m: name 'new_teams_mascot_df' is not defined"
     ]
    }
   ],
   "source": [
    "new_teams_mascot_df.to_csv('../website/static/Resources/team_mascot_seed_2018.csv',encoding='utf-8')"
   ]
  },
  {
   "cell_type": "code",
   "execution_count": 12,
   "metadata": {},
   "outputs": [
    {
     "data": {
      "text/plain": [
       "'<table border=\"1\" class=\"dataframe\">\\n  <thead>\\n    <tr style=\"text-align: right;\">\\n      <th></th>\\n      <th>Team Seed</th>\\n      <th>Team Name</th>\\n      <th>Team Mascot</th>\\n    </tr>\\n    <tr>\\n      <th>Region Name</th>\\n      <th></th>\\n      <th></th>\\n      <th></th>\\n    </tr>\\n  </thead>\\n  <tbody>\\n    <tr>\\n      <th>SOUTH</th>\\n      <td>1</td>\\n      <td>Virginia</td>\\n      <td>https://i.turner.ncaa.com/sites/default/files/...</td>\\n    </tr>\\n    <tr>\\n      <th>SOUTH</th>\\n      <td>16</td>\\n      <td>UMBC</td>\\n      <td>https://i.turner.ncaa.com/sites/default/files/...</td>\\n    </tr>\\n    <tr>\\n      <th>SOUTH</th>\\n      <td>8</td>\\n      <td>Creighton</td>\\n      <td>https://i.turner.ncaa.com/sites/default/files/...</td>\\n    </tr>\\n    <tr>\\n      <th>SOUTH</th>\\n      <td>9</td>\\n      <td>Kansas St.</td>\\n      <td>https://i.turner.ncaa.com/sites/default/files/...</td>\\n    </tr>\\n    <tr>\\n      <th>SOUTH</th>\\n      <td>5</td>\\n      <td>Kentucky</td>\\n      <td>https://i.turner.ncaa.com/sites/default/files/...</td>\\n    </tr>\\n    <tr>\\n      <th>SOUTH</th>\\n      <td>12</td>\\n      <td>Davidson</td>\\n      <td>https://i.turner.ncaa.com/sites/default/files/...</td>\\n    </tr>\\n    <tr>\\n      <th>SOUTH</th>\\n      <td>4</td>\\n      <td>Arizona</td>\\n      <td>https://i.turner.ncaa.com/sites/default/files/...</td>\\n    </tr>\\n    <tr>\\n      <th>SOUTH</th>\\n      <td>13</td>\\n      <td>Buffalo</td>\\n      <td>https://i.turner.ncaa.com/sites/default/files/...</td>\\n    </tr>\\n    <tr>\\n      <th>SOUTH</th>\\n      <td>6</td>\\n      <td>Miami (FL)</td>\\n      <td>https://i.turner.ncaa.com/sites/default/files/...</td>\\n    </tr>\\n    <tr>\\n      <th>SOUTH</th>\\n      <td>11</td>\\n      <td>Loyola (IL)</td>\\n      <td>https://i.turner.ncaa.com/sites/default/files/...</td>\\n    </tr>\\n    <tr>\\n      <th>SOUTH</th>\\n      <td>3</td>\\n      <td>Tennessee</td>\\n      <td>https://i.turner.ncaa.com/sites/default/files/...</td>\\n    </tr>\\n    <tr>\\n      <th>SOUTH</th>\\n      <td>14</td>\\n      <td>Wright St.</td>\\n      <td>https://i.turner.ncaa.com/sites/default/files/...</td>\\n    </tr>\\n    <tr>\\n      <th>SOUTH</th>\\n      <td>7</td>\\n      <td>Nevada</td>\\n      <td>https://i.turner.ncaa.com/sites/default/files/...</td>\\n    </tr>\\n    <tr>\\n      <th>SOUTH</th>\\n      <td>10</td>\\n      <td>Texas</td>\\n      <td>https://i.turner.ncaa.com/sites/default/files/...</td>\\n    </tr>\\n    <tr>\\n      <th>SOUTH</th>\\n      <td>2</td>\\n      <td>Cincinnati</td>\\n      <td>https://i.turner.ncaa.com/sites/default/files/...</td>\\n    </tr>\\n    <tr>\\n      <th>SOUTH</th>\\n      <td>15</td>\\n      <td>Georgia St.</td>\\n      <td>https://i.turner.ncaa.com/sites/default/files/...</td>\\n    </tr>\\n    <tr>\\n      <th>EAST</th>\\n      <td>1</td>\\n      <td>Villanova</td>\\n      <td>https://i.turner.ncaa.com/sites/default/files/...</td>\\n    </tr>\\n    <tr>\\n      <th>EAST</th>\\n      <td>16</td>\\n      <td>Radford</td>\\n      <td>https://i.turner.ncaa.com/sites/default/files/...</td>\\n    </tr>\\n    <tr>\\n      <th>EAST</th>\\n      <td>8</td>\\n      <td>Virginia Tech</td>\\n      <td>https://i.turner.ncaa.com/sites/default/files/...</td>\\n    </tr>\\n    <tr>\\n      <th>EAST</th>\\n      <td>9</td>\\n      <td>Alabama</td>\\n      <td>https://i.turner.ncaa.com/sites/default/files/...</td>\\n    </tr>\\n    <tr>\\n      <th>EAST</th>\\n      <td>5</td>\\n      <td>West Virginia</td>\\n      <td>https://i.turner.ncaa.com/sites/default/files/...</td>\\n    </tr>\\n    <tr>\\n      <th>EAST</th>\\n      <td>12</td>\\n      <td>Murray St.</td>\\n      <td>https://i.turner.ncaa.com/sites/default/files/...</td>\\n    </tr>\\n    <tr>\\n      <th>EAST</th>\\n      <td>4</td>\\n      <td>Wichita St.</td>\\n      <td>https://i.turner.ncaa.com/sites/default/files/...</td>\\n    </tr>\\n    <tr>\\n      <th>EAST</th>\\n      <td>13</td>\\n      <td>Marshall</td>\\n      <td>https://i.turner.ncaa.com/sites/default/files/...</td>\\n    </tr>\\n    <tr>\\n      <th>EAST</th>\\n      <td>6</td>\\n      <td>Florida</td>\\n      <td>https://i.turner.ncaa.com/sites/default/files/...</td>\\n    </tr>\\n    <tr>\\n      <th>EAST</th>\\n      <td>11</td>\\n      <td>St. Bonaventure</td>\\n      <td>https://i.turner.ncaa.com/sites/default/files/...</td>\\n    </tr>\\n    <tr>\\n      <th>EAST</th>\\n      <td>3</td>\\n      <td>Texas Tech</td>\\n      <td>https://i.turner.ncaa.com/sites/default/files/...</td>\\n    </tr>\\n    <tr>\\n      <th>EAST</th>\\n      <td>14</td>\\n      <td>Stephen F. Austin</td>\\n      <td>https://i.turner.ncaa.com/sites/default/files/...</td>\\n    </tr>\\n    <tr>\\n      <th>EAST</th>\\n      <td>7</td>\\n      <td>Arkansas</td>\\n      <td>https://i.turner.ncaa.com/sites/default/files/...</td>\\n    </tr>\\n    <tr>\\n      <th>EAST</th>\\n      <td>10</td>\\n      <td>Butler</td>\\n      <td>https://i.turner.ncaa.com/sites/default/files/...</td>\\n    </tr>\\n    <tr>\\n      <th>EAST</th>\\n      <td>2</td>\\n      <td>Purdue</td>\\n      <td>https://i.turner.ncaa.com/sites/default/files/...</td>\\n    </tr>\\n    <tr>\\n      <th>EAST</th>\\n      <td>15</td>\\n      <td>Cal St. Fullerton</td>\\n      <td>https://i.turner.ncaa.com/sites/default/files/...</td>\\n    </tr>\\n    <tr>\\n      <th>WEST</th>\\n      <td>3</td>\\n      <td>Michigan</td>\\n      <td>https://i.turner.ncaa.com/sites/default/files/...</td>\\n    </tr>\\n    <tr>\\n      <th>MIDWEST</th>\\n      <td>1</td>\\n      <td>Kansas</td>\\n      <td>https://i.turner.ncaa.com/sites/default/files/...</td>\\n    </tr>\\n    <tr>\\n      <th>WEST</th>\\n      <td>1</td>\\n      <td>Xavier</td>\\n      <td>https://i.turner.ncaa.com/sites/default/files/...</td>\\n    </tr>\\n    <tr>\\n      <th>WEST</th>\\n      <td>16</td>\\n      <td>Texas Southern</td>\\n      <td>https://i.turner.ncaa.com/sites/default/files/...</td>\\n    </tr>\\n    <tr>\\n      <th>WEST</th>\\n      <td>8</td>\\n      <td>Missouri</td>\\n      <td>https://i.turner.ncaa.com/sites/default/files/...</td>\\n    </tr>\\n    <tr>\\n      <th>WEST</th>\\n      <td>9</td>\\n      <td>Florida St.</td>\\n      <td>https://i.turner.ncaa.com/sites/default/files/...</td>\\n    </tr>\\n    <tr>\\n      <th>WEST</th>\\n      <td>5</td>\\n      <td>Ohio St.</td>\\n      <td>https://i.turner.ncaa.com/sites/default/files/...</td>\\n    </tr>\\n    <tr>\\n      <th>WEST</th>\\n      <td>12</td>\\n      <td>South Dakota St.</td>\\n      <td>https://i.turner.ncaa.com/sites/default/files/...</td>\\n    </tr>\\n    <tr>\\n      <th>WEST</th>\\n      <td>4</td>\\n      <td>Gonzaga</td>\\n      <td>https://i.turner.ncaa.com/sites/default/files/...</td>\\n    </tr>\\n    <tr>\\n      <th>WEST</th>\\n      <td>13</td>\\n      <td>UNC Greensboro</td>\\n      <td>https://i.turner.ncaa.com/sites/default/files/...</td>\\n    </tr>\\n    <tr>\\n      <th>WEST</th>\\n      <td>6</td>\\n      <td>Houston</td>\\n      <td>https://i.turner.ncaa.com/sites/default/files/...</td>\\n    </tr>\\n    <tr>\\n      <th>WEST</th>\\n      <td>11</td>\\n      <td>San Diego St.</td>\\n      <td>https://i.turner.ncaa.com/sites/default/files/...</td>\\n    </tr>\\n    <tr>\\n      <th>WEST</th>\\n      <td>14</td>\\n      <td>Montana</td>\\n      <td>https://i.turner.ncaa.com/sites/default/files/...</td>\\n    </tr>\\n    <tr>\\n      <th>WEST</th>\\n      <td>7</td>\\n      <td>Texas A&amp;M</td>\\n      <td>https://i.turner.ncaa.com/sites/default/files/...</td>\\n    </tr>\\n    <tr>\\n      <th>WEST</th>\\n      <td>10</td>\\n      <td>Providence</td>\\n      <td>https://i.turner.ncaa.com/sites/default/files/...</td>\\n    </tr>\\n    <tr>\\n      <th>WEST</th>\\n      <td>2</td>\\n      <td>North Carolina</td>\\n      <td>https://i.turner.ncaa.com/sites/default/files/...</td>\\n    </tr>\\n    <tr>\\n      <th>WEST</th>\\n      <td>15</td>\\n      <td>Lipscomb</td>\\n      <td>https://i.turner.ncaa.com/sites/default/files/...</td>\\n    </tr>\\n    <tr>\\n      <th>MIDWEST</th>\\n      <td>16</td>\\n      <td>Penn</td>\\n      <td>https://i.turner.ncaa.com/sites/default/files/...</td>\\n    </tr>\\n    <tr>\\n      <th>MIDWEST</th>\\n      <td>8</td>\\n      <td>Seton Hall</td>\\n      <td>https://i.turner.ncaa.com/sites/default/files/...</td>\\n    </tr>\\n    <tr>\\n      <th>MIDWEST</th>\\n      <td>9</td>\\n      <td>North Carolina St.</td>\\n      <td>https://i.turner.ncaa.com/sites/default/files/...</td>\\n    </tr>\\n    <tr>\\n      <th>MIDWEST</th>\\n      <td>5</td>\\n      <td>Clemson</td>\\n      <td>https://i.turner.ncaa.com/sites/default/files/...</td>\\n    </tr>\\n    <tr>\\n      <th>MIDWEST</th>\\n      <td>12</td>\\n      <td>New Mexico St.</td>\\n      <td>https://i.turner.ncaa.com/sites/default/files/...</td>\\n    </tr>\\n    <tr>\\n      <th>MIDWEST</th>\\n      <td>4</td>\\n      <td>Auburn</td>\\n      <td>https://i.turner.ncaa.com/sites/default/files/...</td>\\n    </tr>\\n    <tr>\\n      <th>MIDWEST</th>\\n      <td>13</td>\\n      <td>Col. of Charleston</td>\\n      <td>https://i.turner.ncaa.com/sites/default/files/...</td>\\n    </tr>\\n    <tr>\\n      <th>MIDWEST</th>\\n      <td>6</td>\\n      <td>TCU</td>\\n      <td>https://i.turner.ncaa.com/sites/default/files/...</td>\\n    </tr>\\n    <tr>\\n      <th>MIDWEST</th>\\n      <td>11</td>\\n      <td>Syracuse</td>\\n      <td>https://i.turner.ncaa.com/sites/default/files/...</td>\\n    </tr>\\n    <tr>\\n      <th>MIDWEST</th>\\n      <td>3</td>\\n      <td>Michigan St.</td>\\n      <td>https://i.turner.ncaa.com/sites/default/files/...</td>\\n    </tr>\\n    <tr>\\n      <th>MIDWEST</th>\\n      <td>14</td>\\n      <td>Bucknell</td>\\n      <td>https://i.turner.ncaa.com/sites/default/files/...</td>\\n    </tr>\\n    <tr>\\n      <th>MIDWEST</th>\\n      <td>7</td>\\n      <td>Rhode Island</td>\\n      <td>https://i.turner.ncaa.com/sites/default/files/...</td>\\n    </tr>\\n    <tr>\\n      <th>MIDWEST</th>\\n      <td>10</td>\\n      <td>Oklahoma</td>\\n      <td>https://i.turner.ncaa.com/sites/default/files/...</td>\\n    </tr>\\n    <tr>\\n      <th>MIDWEST</th>\\n      <td>2</td>\\n      <td>Duke</td>\\n      <td>https://i.turner.ncaa.com/sites/default/files/...</td>\\n    </tr>\\n    <tr>\\n      <th>MIDWEST</th>\\n      <td>15</td>\\n      <td>Iona</td>\\n      <td>https://i.turner.ncaa.com/sites/default/files/...</td>\\n    </tr>\\n    <tr>\\n      <th>EAST</th>\\n      <td>16</td>\\n      <td>Long Island</td>\\n      <td>https://i.turner.ncaa.com/sites/default/files/...</td>\\n    </tr>\\n    <tr>\\n      <th>EAST</th>\\n      <td>11</td>\\n      <td>UCLA</td>\\n      <td>https://i.turner.ncaa.com/sites/default/files/...</td>\\n    </tr>\\n    <tr>\\n      <th>WEST</th>\\n      <td>16</td>\\n      <td>N.C. Central</td>\\n      <td>https://i.turner.ncaa.com/sites/default/files/...</td>\\n    </tr>\\n    <tr>\\n      <th>MIDWEST</th>\\n      <td>11</td>\\n      <td>Arizona St.</td>\\n      <td>https://i.turner.ncaa.com/sites/default/files/...</td>\\n    </tr>\\n  </tbody>\\n</table>'"
      ]
     },
     "execution_count": 12,
     "metadata": {},
     "output_type": "execute_result"
    }
   ],
   "source": [
    "html_table = new_teams_mascot_df.to_html()\n",
    "\n",
    "html_table"
   ]
  },
  {
   "cell_type": "code",
   "execution_count": 21,
   "metadata": {},
   "outputs": [
    {
     "ename": "NameError",
     "evalue": "name 'html_table' is not defined",
     "output_type": "error",
     "traceback": [
      "\u001b[1;31m---------------------------------------------------------------------------\u001b[0m",
      "\u001b[1;31mNameError\u001b[0m                                 Traceback (most recent call last)",
      "\u001b[1;32m<ipython-input-21-49869ddfe3ee>\u001b[0m in \u001b[0;36m<module>\u001b[1;34m\u001b[0m\n\u001b[1;32m----> 1\u001b[1;33m \u001b[0mhtml_table\u001b[0m\u001b[1;33m.\u001b[0m\u001b[0mreplace\u001b[0m\u001b[1;33m(\u001b[0m\u001b[1;34m'\\n'\u001b[0m\u001b[1;33m,\u001b[0m \u001b[1;34m''\u001b[0m\u001b[1;33m)\u001b[0m\u001b[1;33m\u001b[0m\u001b[1;33m\u001b[0m\u001b[0m\n\u001b[0m",
      "\u001b[1;31mNameError\u001b[0m: name 'html_table' is not defined"
     ]
    }
   ],
   "source": [
    "html_table.replace('\\n', '')"
   ]
  },
  {
   "cell_type": "code",
   "execution_count": 22,
   "metadata": {},
   "outputs": [
    {
     "ename": "NameError",
     "evalue": "name 'new_teams_mascot_df' is not defined",
     "output_type": "error",
     "traceback": [
      "\u001b[1;31m---------------------------------------------------------------------------\u001b[0m",
      "\u001b[1;31mNameError\u001b[0m                                 Traceback (most recent call last)",
      "\u001b[1;32m<ipython-input-22-f80f2fe470c9>\u001b[0m in \u001b[0;36m<module>\u001b[1;34m\u001b[0m\n\u001b[1;32m----> 1\u001b[1;33m \u001b[0mnew_teams_mascot_df\u001b[0m\u001b[1;33m.\u001b[0m\u001b[0mto_html\u001b[0m\u001b[1;33m(\u001b[0m\u001b[1;34m'../website/templates/table.html'\u001b[0m\u001b[1;33m)\u001b[0m \u001b[1;31m## move to templates\u001b[0m\u001b[1;33m\u001b[0m\u001b[1;33m\u001b[0m\u001b[0m\n\u001b[0m",
      "\u001b[1;31mNameError\u001b[0m: name 'new_teams_mascot_df' is not defined"
     ]
    }
   ],
   "source": [
    "new_teams_mascot_df.to_html('../website/templates/table.html') ## move to templates"
   ]
  },
  {
   "cell_type": "code",
   "execution_count": null,
   "metadata": {},
   "outputs": [],
   "source": []
  }
 ],
 "metadata": {
  "kernelspec": {
   "display_name": "Python 3",
   "language": "python",
   "name": "python3"
  },
  "language_info": {
   "codemirror_mode": {
    "name": "ipython",
    "version": 3
   },
   "file_extension": ".py",
   "mimetype": "text/x-python",
   "name": "python",
   "nbconvert_exporter": "python",
   "pygments_lexer": "ipython3",
   "version": "3.6.8"
  },
  "varInspector": {
   "cols": {
    "lenName": 16,
    "lenType": 16,
    "lenVar": 40
   },
   "kernels_config": {
    "python": {
     "delete_cmd_postfix": "",
     "delete_cmd_prefix": "del ",
     "library": "var_list.py",
     "varRefreshCmd": "print(var_dic_list())"
    },
    "r": {
     "delete_cmd_postfix": ") ",
     "delete_cmd_prefix": "rm(",
     "library": "var_list.r",
     "varRefreshCmd": "cat(var_dic_list()) "
    }
   },
   "types_to_exclude": [
    "module",
    "function",
    "builtin_function_or_method",
    "instance",
    "_Feature"
   ],
   "window_display": false
  }
 },
 "nbformat": 4,
 "nbformat_minor": 2
}
